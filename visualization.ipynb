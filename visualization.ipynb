{
  "nbformat": 4,
  "nbformat_minor": 0,
  "metadata": {
    "colab": {
      "name": "visualization.ipynb",
      "provenance": [],
      "collapsed_sections": []
    },
    "kernelspec": {
      "name": "python3",
      "display_name": "Python 3"
    },
    "language_info": {
      "name": "python"
    }
  },
  "cells": [
    {
      "cell_type": "code",
      "metadata": {
        "colab": {
          "base_uri": "https://localhost:8080/"
        },
        "id": "DB1Esvq0yB_Y",
        "outputId": "a7adb9cd-b4ab-48e9-aa6c-7da817cef469"
      },
      "source": [
        "#Mounting Google Drive\n",
        "from google.colab import drive\n",
        "drive.mount('/content/drive')"
      ],
      "execution_count": 20,
      "outputs": [
        {
          "output_type": "stream",
          "text": [
            "Drive already mounted at /content/drive; to attempt to forcibly remount, call drive.mount(\"/content/drive\", force_remount=True).\n"
          ],
          "name": "stdout"
        }
      ]
    },
    {
      "cell_type": "code",
      "metadata": {
        "colab": {
          "base_uri": "https://localhost:8080/"
        },
        "id": "5w74rjocyEH3",
        "outputId": "93d27d55-c56c-4235-90d4-68c24d41fdd1"
      },
      "source": [
        "!ls '/content/drive/MyDrive/amortization-schedule'"
      ],
      "execution_count": 21,
      "outputs": [
        {
          "output_type": "stream",
          "text": [
            "interest.txt  principal.txt  visualization.ipynb\n"
          ],
          "name": "stdout"
        }
      ]
    },
    {
      "cell_type": "code",
      "metadata": {
        "id": "-vaHp-X_yRL_"
      },
      "source": [
        "import pandas as pd"
      ],
      "execution_count": 22,
      "outputs": []
    },
    {
      "cell_type": "code",
      "metadata": {
        "id": "YDYppZQTyjOD"
      },
      "source": [
        "fileInterest = pd.read_csv('/content/drive/MyDrive/amortization-schedule/interest.txt')\n",
        "filePrincipal = pd.read_csv('/content/drive/MyDrive/amortization-schedule/principal.txt')"
      ],
      "execution_count": 26,
      "outputs": []
    },
    {
      "cell_type": "code",
      "metadata": {
        "id": "uh80a8Uays7Q"
      },
      "source": [
        "fileInterest.to_csv('/content/drive/MyDrive/amortization-schedule/interest.csv', index = None)\n",
        "filePrincipal.to_csv('/content/drive/MyDrive/amortization-schedule/principal.csv', index = None)"
      ],
      "execution_count": 27,
      "outputs": []
    },
    {
      "cell_type": "code",
      "metadata": {
        "id": "no-gFrADy3po",
        "colab": {
          "base_uri": "https://localhost:8080/",
          "height": 423
        },
        "outputId": "e98bd7c6-90dd-4343-f008-1e47dc728988"
      },
      "source": [
        "fileInterest"
      ],
      "execution_count": 28,
      "outputs": [
        {
          "output_type": "execute_result",
          "data": {
            "text/html": [
              "<div>\n",
              "<style scoped>\n",
              "    .dataframe tbody tr th:only-of-type {\n",
              "        vertical-align: middle;\n",
              "    }\n",
              "\n",
              "    .dataframe tbody tr th {\n",
              "        vertical-align: top;\n",
              "    }\n",
              "\n",
              "    .dataframe thead th {\n",
              "        text-align: right;\n",
              "    }\n",
              "</style>\n",
              "<table border=\"1\" class=\"dataframe\">\n",
              "  <thead>\n",
              "    <tr style=\"text-align: right;\">\n",
              "      <th></th>\n",
              "      <th>Interest</th>\n",
              "    </tr>\n",
              "  </thead>\n",
              "  <tbody>\n",
              "    <tr>\n",
              "      <th>0</th>\n",
              "      <td>416.66700</td>\n",
              "    </tr>\n",
              "    <tr>\n",
              "      <th>1</th>\n",
              "      <td>416.16600</td>\n",
              "    </tr>\n",
              "    <tr>\n",
              "      <th>2</th>\n",
              "      <td>415.66300</td>\n",
              "    </tr>\n",
              "    <tr>\n",
              "      <th>3</th>\n",
              "      <td>415.15800</td>\n",
              "    </tr>\n",
              "    <tr>\n",
              "      <th>4</th>\n",
              "      <td>414.65200</td>\n",
              "    </tr>\n",
              "    <tr>\n",
              "      <th>...</th>\n",
              "      <td>...</td>\n",
              "    </tr>\n",
              "    <tr>\n",
              "      <th>355</th>\n",
              "      <td>11.04530</td>\n",
              "    </tr>\n",
              "    <tr>\n",
              "      <th>356</th>\n",
              "      <td>8.85460</td>\n",
              "    </tr>\n",
              "    <tr>\n",
              "      <th>357</th>\n",
              "      <td>6.65474</td>\n",
              "    </tr>\n",
              "    <tr>\n",
              "      <th>358</th>\n",
              "      <td>4.44571</td>\n",
              "    </tr>\n",
              "    <tr>\n",
              "      <th>359</th>\n",
              "      <td>2.22748</td>\n",
              "    </tr>\n",
              "  </tbody>\n",
              "</table>\n",
              "<p>360 rows × 1 columns</p>\n",
              "</div>"
            ],
            "text/plain": [
              "      Interest\n",
              "0    416.66700\n",
              "1    416.16600\n",
              "2    415.66300\n",
              "3    415.15800\n",
              "4    414.65200\n",
              "..         ...\n",
              "355   11.04530\n",
              "356    8.85460\n",
              "357    6.65474\n",
              "358    4.44571\n",
              "359    2.22748\n",
              "\n",
              "[360 rows x 1 columns]"
            ]
          },
          "metadata": {
            "tags": []
          },
          "execution_count": 28
        }
      ]
    },
    {
      "cell_type": "code",
      "metadata": {
        "id": "DX7HA1fXy5Au",
        "colab": {
          "base_uri": "https://localhost:8080/",
          "height": 423
        },
        "outputId": "fb92c592-143a-49c1-f03f-c472476d2b01"
      },
      "source": [
        "filePrincipal"
      ],
      "execution_count": 30,
      "outputs": [
        {
          "output_type": "execute_result",
          "data": {
            "text/html": [
              "<div>\n",
              "<style scoped>\n",
              "    .dataframe tbody tr th:only-of-type {\n",
              "        vertical-align: middle;\n",
              "    }\n",
              "\n",
              "    .dataframe tbody tr th {\n",
              "        vertical-align: top;\n",
              "    }\n",
              "\n",
              "    .dataframe thead th {\n",
              "        text-align: right;\n",
              "    }\n",
              "</style>\n",
              "<table border=\"1\" class=\"dataframe\">\n",
              "  <thead>\n",
              "    <tr style=\"text-align: right;\">\n",
              "      <th></th>\n",
              "      <th>Principal Paid</th>\n",
              "    </tr>\n",
              "  </thead>\n",
              "  <tbody>\n",
              "    <tr>\n",
              "      <th>0</th>\n",
              "      <td>120.155</td>\n",
              "    </tr>\n",
              "    <tr>\n",
              "      <th>1</th>\n",
              "      <td>120.656</td>\n",
              "    </tr>\n",
              "    <tr>\n",
              "      <th>2</th>\n",
              "      <td>121.158</td>\n",
              "    </tr>\n",
              "    <tr>\n",
              "      <th>3</th>\n",
              "      <td>121.663</td>\n",
              "    </tr>\n",
              "    <tr>\n",
              "      <th>4</th>\n",
              "      <td>122.170</td>\n",
              "    </tr>\n",
              "    <tr>\n",
              "      <th>...</th>\n",
              "      <td>...</td>\n",
              "    </tr>\n",
              "    <tr>\n",
              "      <th>355</th>\n",
              "      <td>525.776</td>\n",
              "    </tr>\n",
              "    <tr>\n",
              "      <th>356</th>\n",
              "      <td>527.967</td>\n",
              "    </tr>\n",
              "    <tr>\n",
              "      <th>357</th>\n",
              "      <td>530.167</td>\n",
              "    </tr>\n",
              "    <tr>\n",
              "      <th>358</th>\n",
              "      <td>532.376</td>\n",
              "    </tr>\n",
              "    <tr>\n",
              "      <th>359</th>\n",
              "      <td>534.594</td>\n",
              "    </tr>\n",
              "  </tbody>\n",
              "</table>\n",
              "<p>360 rows × 1 columns</p>\n",
              "</div>"
            ],
            "text/plain": [
              "     Principal Paid\n",
              "0           120.155\n",
              "1           120.656\n",
              "2           121.158\n",
              "3           121.663\n",
              "4           122.170\n",
              "..              ...\n",
              "355         525.776\n",
              "356         527.967\n",
              "357         530.167\n",
              "358         532.376\n",
              "359         534.594\n",
              "\n",
              "[360 rows x 1 columns]"
            ]
          },
          "metadata": {
            "tags": []
          },
          "execution_count": 30
        }
      ]
    },
    {
      "cell_type": "code",
      "metadata": {
        "id": "kM4byXq316tP"
      },
      "source": [
        "import plotly.express as px\n",
        "import plotly.graph_objects as go"
      ],
      "execution_count": 44,
      "outputs": []
    },
    {
      "cell_type": "code",
      "metadata": {
        "id": "601R20BM2gCg"
      },
      "source": [
        "fig = go.Figure()"
      ],
      "execution_count": 45,
      "outputs": []
    },
    {
      "cell_type": "code",
      "metadata": {
        "colab": {
          "base_uri": "https://localhost:8080/",
          "height": 542
        },
        "id": "XilHh1mL3Iay",
        "outputId": "7ad67809-c0d6-4eb9-b095-cead6790ae54"
      },
      "source": [
        "fig.add_trace(go.Scatter(y = fileInterest['Interest'], mode = 'lines', name = 'Interest paid every Installment'))\n",
        "fig.add_trace(go.Scatter(y = filePrincipal['Principal Paid'], mode = 'lines', name = 'Principal paid off every Installment'))\n",
        "fig.show()"
      ],
      "execution_count": 46,
      "outputs": [
        {
          "output_type": "display_data",
          "data": {
            "text/html": [
              "<html>\n",
              "<head><meta charset=\"utf-8\" /></head>\n",
              "<body>\n",
              "    <div>\n",
              "            <script src=\"https://cdnjs.cloudflare.com/ajax/libs/mathjax/2.7.5/MathJax.js?config=TeX-AMS-MML_SVG\"></script><script type=\"text/javascript\">if (window.MathJax) {MathJax.Hub.Config({SVG: {font: \"STIX-Web\"}});}</script>\n",
              "                <script type=\"text/javascript\">window.PlotlyConfig = {MathJaxConfig: 'local'};</script>\n",
              "        <script src=\"https://cdn.plot.ly/plotly-latest.min.js\"></script>    \n",
              "            <div id=\"ec7d3856-683e-4c28-9e0e-32703a5f8454\" class=\"plotly-graph-div\" style=\"height:525px; width:100%;\"></div>\n",
              "            <script type=\"text/javascript\">\n",
              "                \n",
              "                    window.PLOTLYENV=window.PLOTLYENV || {};\n",
              "                    \n",
              "                if (document.getElementById(\"ec7d3856-683e-4c28-9e0e-32703a5f8454\")) {\n",
              "                    Plotly.newPlot(\n",
              "                        'ec7d3856-683e-4c28-9e0e-32703a5f8454',\n",
              "                        [{\"mode\": \"lines\", \"name\": \"Interest paid every Installment\", \"type\": \"scatter\", \"y\": [416.667, 416.166, 415.663, 415.158, 414.652, 414.142, 413.631, 413.11800000000005, 412.603, 412.085, 411.565, 411.043, 410.519, 409.99300000000005, 409.465, 408.934, 408.401, 407.866, 407.329, 406.789, 406.24699999999996, 405.70300000000003, 405.157, 404.608, 404.05699999999996, 403.504, 402.949, 402.39099999999996, 401.83099999999996, 401.26800000000003, 400.704, 400.13599999999997, 399.56699999999995, 398.995, 398.421, 397.844, 397.265, 396.68300000000005, 396.1, 395.51300000000003, 394.92400000000004, 394.333, 393.74, 393.14300000000003, 392.545, 391.944, 391.34, 390.73400000000004, 390.125, 389.514, 388.9, 388.284, 387.665, 387.043, 386.41900000000004, 385.792, 385.163, 384.531, 383.897, 383.26, 382.62, 381.977, 381.332, 380.684, 380.034, 379.38, 378.724, 378.066, 377.404, 376.74, 376.07300000000004, 375.403, 374.73, 374.055, 373.37699999999995, 372.69599999999997, 372.01199999999994, 371.325, 370.63599999999997, 369.94300000000004, 369.24800000000005, 368.55, 367.849, 367.145, 366.43800000000005, 365.728, 365.015, 364.29900000000004, 363.58, 362.858, 362.13300000000004, 361.405, 360.675, 359.941, 359.204, 358.464, 357.72, 356.974, 356.225, 355.472, 354.717, 353.958, 353.19599999999997, 352.431, 351.663, 350.89099999999996, 350.116, 349.338, 348.55699999999996, 347.773, 346.985, 346.194, 345.4, 344.602, 343.801, 342.99699999999996, 342.189, 341.379, 340.564, 339.746, 338.925, 338.101, 337.273, 336.441, 335.606, 334.76800000000003, 333.926, 333.08099999999996, 332.23199999999997, 331.379, 330.523, 329.664, 328.801, 327.934, 327.063, 326.189, 325.312, 324.43, 323.546, 322.657, 321.765, 320.868, 319.969, 319.065, 318.158, 317.247, 316.332, 315.413, 314.491, 313.564, 312.634, 311.7, 310.762, 309.82, 308.874, 307.92400000000004, 306.971, 306.013, 305.051, 304.085, 303.116, 302.142, 301.164, 300.182, 299.19599999999997, 298.20599999999996, 297.212, 296.21299999999997, 295.211, 294.204, 293.193, 292.178, 291.159, 290.135, 289.107, 288.075, 287.039, 285.998, 284.953, 283.903, 282.85, 281.791, 280.72900000000004, 279.66200000000003, 278.59, 277.514, 276.434, 275.349, 274.259, 273.165, 272.067, 270.964, 269.856, 268.744, 267.627, 266.505, 265.379, 264.248, 263.112, 261.971, 260.82599999999996, 259.676, 258.52099999999996, 257.362, 256.197, 255.028, 253.854, 252.675, 251.49099999999999, 250.30200000000002, 249.108, 247.91, 246.706, 245.497, 244.283, 243.06400000000002, 241.84, 240.611, 239.377, 238.138, 236.893, 235.643, 234.388, 233.128, 231.863, 230.592, 229.31599999999997, 228.035, 226.748, 225.456, 224.15900000000002, 222.856, 221.548, 220.234, 218.915, 217.59099999999998, 216.261, 214.925, 213.584, 212.237, 210.88400000000001, 209.52599999999998, 208.16299999999998, 206.793, 205.418, 204.037, 202.65099999999998, 201.25799999999998, 199.86, 198.456, 197.046, 195.63099999999997, 194.209, 192.78099999999998, 191.34799999999998, 189.908, 188.463, 187.011, 185.554, 184.09, 182.62099999999998, 181.145, 179.66299999999998, 178.175, 176.68, 175.18, 173.673, 172.16, 170.64, 169.114, 167.582, 166.044, 164.49900000000002, 162.94799999999998, 161.39, 159.825, 158.255, 156.67700000000002, 155.093, 153.503, 151.906, 150.30200000000002, 148.691, 147.07399999999998, 145.45, 143.819, 142.18200000000002, 140.53799999999998, 138.886, 137.22799999999998, 135.563, 133.891, 132.213, 130.52700000000002, 128.834, 127.134, 125.427, 123.713, 121.991, 120.26299999999999, 118.527, 116.78399999999999, 115.03399999999999, 113.277, 111.512, 109.74, 107.96, 106.17399999999999, 104.37899999999999, 102.57700000000001, 100.76799999999999, 98.9511, 97.1266, 95.2945, 93.4548, 91.6075, 89.7524, 87.8896, 86.0191, 84.1407, 82.2546, 80.3605, 78.4586, 76.5488, 74.631, 72.7052, 70.7713, 68.8295, 66.8795, 64.9214, 62.9552, 60.9807, 58.998000000000005, 57.0071, 55.0079, 53.0003, 50.9844, 48.9601, 46.9273, 44.8861, 42.8364, 40.7781, 38.7113, 36.6358, 34.5517, 32.4589, 30.3574, 28.2471, 26.1281, 24.0002, 21.8634, 19.7177, 17.5631, 15.3996, 13.227, 11.0453, 8.8546, 6.654739999999999, 4.44571, 2.22748]}, {\"mode\": \"lines\", \"name\": \"Principal paid off every Installment\", \"type\": \"scatter\", \"y\": [120.155, 120.656, 121.15799999999999, 121.663, 122.17, 122.679, 123.19, 123.704, 124.219, 124.73700000000001, 125.256, 125.77799999999999, 126.302, 126.829, 127.35700000000001, 127.88799999999999, 128.421, 128.95600000000002, 129.493, 130.032, 130.57399999999998, 131.118, 131.665, 132.213, 132.764, 133.317, 133.873, 134.431, 134.991, 135.553, 136.118, 136.685, 137.255, 137.827, 138.401, 138.97799999999998, 139.55700000000002, 140.138, 140.722, 141.308, 141.89700000000002, 142.488, 143.082, 143.678, 144.27700000000002, 144.878, 145.482, 146.088, 146.697, 147.308, 147.922, 148.53799999999998, 149.157, 149.778, 150.40200000000002, 151.029, 151.658, 152.29, 152.925, 153.562, 154.202, 154.844, 155.49, 156.137, 156.78799999999998, 157.441, 158.097, 158.756, 159.418, 160.082, 160.749, 161.41899999999998, 162.091, 162.767, 163.445, 164.12599999999998, 164.81, 165.49599999999998, 166.18599999999998, 166.878, 167.574, 168.27200000000002, 168.97299999999998, 169.67700000000002, 170.38400000000001, 171.09400000000002, 171.80700000000002, 172.523, 173.24200000000002, 173.963, 174.688, 175.416, 176.14700000000002, 176.88099999999997, 177.618, 178.358, 179.101, 179.847, 180.597, 181.34900000000002, 182.105, 182.864, 183.62599999999998, 184.391, 185.15900000000002, 185.93099999999998, 186.705, 187.483, 188.264, 189.049, 189.83700000000002, 190.628, 191.422, 192.21900000000002, 193.02, 193.825, 194.632, 195.44299999999998, 196.257, 197.075, 197.896, 198.72099999999998, 199.549, 200.38, 201.215, 202.054, 202.896, 203.74099999999999, 204.59, 205.442, 206.298, 207.158, 208.021, 208.888, 209.75799999999998, 210.632, 211.51, 212.391, 213.27599999999998, 214.165, 215.05700000000002, 215.953, 216.85299999999998, 217.757, 218.66400000000002, 219.575, 220.49, 221.40900000000002, 222.331, 223.257, 224.188, 225.122, 226.06, 227.002, 227.94799999999998, 228.89700000000002, 229.851, 230.80900000000003, 231.771, 232.736, 233.706, 234.68, 235.658, 236.639, 237.625, 238.61599999999999, 239.61, 240.608, 241.611, 242.61700000000002, 243.628, 244.643, 245.66299999999998, 246.68599999999998, 247.71400000000003, 248.74599999999998, 249.783, 250.824, 251.86900000000003, 252.918, 253.972, 255.03, 256.093, 257.16, 258.231, 259.307, 260.388, 261.473, 262.562, 263.656, 264.755, 265.858, 266.966, 268.078, 269.195, 270.317, 271.443, 272.574, 273.71, 274.85, 275.995, 277.145, 278.3, 279.46, 280.624, 281.793, 282.968, 284.147, 285.33099999999996, 286.519, 287.71299999999997, 288.91200000000003, 290.116, 291.325, 292.539, 293.757, 294.981, 296.211, 297.445, 298.684, 299.92900000000003, 301.178, 302.433, 303.693, 304.959, 306.22900000000004, 307.505, 308.78700000000003, 310.073, 311.365, 312.663, 313.965, 315.274, 316.587, 317.906, 319.231, 320.561, 321.897, 323.238, 324.585, 325.937, 327.295, 328.659, 330.028, 331.404, 332.784, 334.171, 335.56300000000005, 336.962, 338.366, 339.775, 341.191, 342.61300000000006, 344.04, 345.474, 346.913, 348.35900000000004, 349.81, 351.26800000000003, 352.731, 354.20099999999996, 355.67699999999996, 357.159, 358.647, 360.14099999999996, 361.642, 363.149, 364.662, 366.181, 367.707, 369.23900000000003, 370.778, 372.32300000000004, 373.874, 375.43199999999996, 376.996, 378.56699999999995, 380.144, 381.728, 383.319, 384.916, 386.52, 388.13, 389.74699999999996, 391.371, 393.00199999999995, 394.64, 396.284, 397.935, 399.593, 401.25800000000004, 402.93, 404.60900000000004, 406.295, 407.98800000000006, 409.68800000000005, 411.395, 413.10900000000004, 414.83, 416.559, 418.29400000000004, 420.037, 421.787, 423.545, 425.31, 427.082, 428.861, 430.648, 432.44199999999995, 434.244, 436.05400000000003, 437.871, 439.695, 441.527, 443.36699999999996, 445.214, 447.069, 448.93199999999996, 450.80300000000005, 452.681, 454.56699999999995, 456.461, 458.36300000000006, 460.273, 462.191, 464.116, 466.05, 467.99199999999996, 469.94199999999995, 471.9, 473.866, 475.841, 477.824, 479.815, 481.814, 483.82099999999997, 485.837, 487.86199999999997, 489.894, 491.936, 493.985, 496.04400000000004, 498.11, 500.186, 502.27, 504.36300000000006, 506.464, 508.575, 510.694, 512.821, 514.9580000000001, 517.104, 519.258, 521.422, 523.595, 525.776, 527.967, 530.1669999999999, 532.376, 534.594]}],\n",
              "                        {\"template\": {\"data\": {\"bar\": [{\"error_x\": {\"color\": \"#2a3f5f\"}, \"error_y\": {\"color\": \"#2a3f5f\"}, \"marker\": {\"line\": {\"color\": \"#E5ECF6\", \"width\": 0.5}}, \"type\": \"bar\"}], \"barpolar\": [{\"marker\": {\"line\": {\"color\": \"#E5ECF6\", \"width\": 0.5}}, \"type\": \"barpolar\"}], \"carpet\": [{\"aaxis\": {\"endlinecolor\": \"#2a3f5f\", \"gridcolor\": \"white\", \"linecolor\": \"white\", \"minorgridcolor\": \"white\", \"startlinecolor\": \"#2a3f5f\"}, \"baxis\": {\"endlinecolor\": \"#2a3f5f\", \"gridcolor\": \"white\", \"linecolor\": \"white\", \"minorgridcolor\": \"white\", \"startlinecolor\": \"#2a3f5f\"}, \"type\": \"carpet\"}], \"choropleth\": [{\"colorbar\": {\"outlinewidth\": 0, \"ticks\": \"\"}, \"type\": \"choropleth\"}], \"contour\": [{\"colorbar\": {\"outlinewidth\": 0, \"ticks\": \"\"}, \"colorscale\": [[0.0, \"#0d0887\"], [0.1111111111111111, \"#46039f\"], [0.2222222222222222, \"#7201a8\"], [0.3333333333333333, \"#9c179e\"], [0.4444444444444444, \"#bd3786\"], [0.5555555555555556, \"#d8576b\"], [0.6666666666666666, \"#ed7953\"], [0.7777777777777778, \"#fb9f3a\"], [0.8888888888888888, \"#fdca26\"], [1.0, \"#f0f921\"]], \"type\": \"contour\"}], \"contourcarpet\": [{\"colorbar\": {\"outlinewidth\": 0, \"ticks\": \"\"}, \"type\": \"contourcarpet\"}], \"heatmap\": [{\"colorbar\": {\"outlinewidth\": 0, \"ticks\": \"\"}, \"colorscale\": [[0.0, \"#0d0887\"], [0.1111111111111111, \"#46039f\"], [0.2222222222222222, \"#7201a8\"], [0.3333333333333333, \"#9c179e\"], [0.4444444444444444, \"#bd3786\"], [0.5555555555555556, \"#d8576b\"], [0.6666666666666666, \"#ed7953\"], [0.7777777777777778, \"#fb9f3a\"], [0.8888888888888888, \"#fdca26\"], [1.0, \"#f0f921\"]], \"type\": \"heatmap\"}], \"heatmapgl\": [{\"colorbar\": {\"outlinewidth\": 0, \"ticks\": \"\"}, \"colorscale\": [[0.0, \"#0d0887\"], [0.1111111111111111, \"#46039f\"], [0.2222222222222222, \"#7201a8\"], [0.3333333333333333, \"#9c179e\"], [0.4444444444444444, \"#bd3786\"], [0.5555555555555556, \"#d8576b\"], [0.6666666666666666, \"#ed7953\"], [0.7777777777777778, \"#fb9f3a\"], [0.8888888888888888, \"#fdca26\"], [1.0, \"#f0f921\"]], \"type\": \"heatmapgl\"}], \"histogram\": [{\"marker\": {\"colorbar\": {\"outlinewidth\": 0, \"ticks\": \"\"}}, \"type\": \"histogram\"}], \"histogram2d\": [{\"colorbar\": {\"outlinewidth\": 0, \"ticks\": \"\"}, \"colorscale\": [[0.0, \"#0d0887\"], [0.1111111111111111, \"#46039f\"], [0.2222222222222222, \"#7201a8\"], [0.3333333333333333, \"#9c179e\"], [0.4444444444444444, \"#bd3786\"], [0.5555555555555556, \"#d8576b\"], [0.6666666666666666, \"#ed7953\"], [0.7777777777777778, \"#fb9f3a\"], [0.8888888888888888, \"#fdca26\"], [1.0, \"#f0f921\"]], \"type\": \"histogram2d\"}], \"histogram2dcontour\": [{\"colorbar\": {\"outlinewidth\": 0, \"ticks\": \"\"}, \"colorscale\": [[0.0, \"#0d0887\"], [0.1111111111111111, \"#46039f\"], [0.2222222222222222, \"#7201a8\"], [0.3333333333333333, \"#9c179e\"], [0.4444444444444444, \"#bd3786\"], [0.5555555555555556, \"#d8576b\"], [0.6666666666666666, \"#ed7953\"], [0.7777777777777778, \"#fb9f3a\"], [0.8888888888888888, \"#fdca26\"], [1.0, \"#f0f921\"]], \"type\": \"histogram2dcontour\"}], \"mesh3d\": [{\"colorbar\": {\"outlinewidth\": 0, \"ticks\": \"\"}, \"type\": \"mesh3d\"}], \"parcoords\": [{\"line\": {\"colorbar\": {\"outlinewidth\": 0, \"ticks\": \"\"}}, \"type\": \"parcoords\"}], \"pie\": [{\"automargin\": true, \"type\": \"pie\"}], \"scatter\": [{\"marker\": {\"colorbar\": {\"outlinewidth\": 0, \"ticks\": \"\"}}, \"type\": \"scatter\"}], \"scatter3d\": [{\"line\": {\"colorbar\": {\"outlinewidth\": 0, \"ticks\": \"\"}}, \"marker\": {\"colorbar\": {\"outlinewidth\": 0, \"ticks\": \"\"}}, \"type\": \"scatter3d\"}], \"scattercarpet\": [{\"marker\": {\"colorbar\": {\"outlinewidth\": 0, \"ticks\": \"\"}}, \"type\": \"scattercarpet\"}], \"scattergeo\": [{\"marker\": {\"colorbar\": {\"outlinewidth\": 0, \"ticks\": \"\"}}, \"type\": \"scattergeo\"}], \"scattergl\": [{\"marker\": {\"colorbar\": {\"outlinewidth\": 0, \"ticks\": \"\"}}, \"type\": \"scattergl\"}], \"scattermapbox\": [{\"marker\": {\"colorbar\": {\"outlinewidth\": 0, \"ticks\": \"\"}}, \"type\": \"scattermapbox\"}], \"scatterpolar\": [{\"marker\": {\"colorbar\": {\"outlinewidth\": 0, \"ticks\": \"\"}}, \"type\": \"scatterpolar\"}], \"scatterpolargl\": [{\"marker\": {\"colorbar\": {\"outlinewidth\": 0, \"ticks\": \"\"}}, \"type\": \"scatterpolargl\"}], \"scatterternary\": [{\"marker\": {\"colorbar\": {\"outlinewidth\": 0, \"ticks\": \"\"}}, \"type\": \"scatterternary\"}], \"surface\": [{\"colorbar\": {\"outlinewidth\": 0, \"ticks\": \"\"}, \"colorscale\": [[0.0, \"#0d0887\"], [0.1111111111111111, \"#46039f\"], [0.2222222222222222, \"#7201a8\"], [0.3333333333333333, \"#9c179e\"], [0.4444444444444444, \"#bd3786\"], [0.5555555555555556, \"#d8576b\"], [0.6666666666666666, \"#ed7953\"], [0.7777777777777778, \"#fb9f3a\"], [0.8888888888888888, \"#fdca26\"], [1.0, \"#f0f921\"]], \"type\": \"surface\"}], \"table\": [{\"cells\": {\"fill\": {\"color\": \"#EBF0F8\"}, \"line\": {\"color\": \"white\"}}, \"header\": {\"fill\": {\"color\": \"#C8D4E3\"}, \"line\": {\"color\": \"white\"}}, \"type\": \"table\"}]}, \"layout\": {\"annotationdefaults\": {\"arrowcolor\": \"#2a3f5f\", \"arrowhead\": 0, \"arrowwidth\": 1}, \"coloraxis\": {\"colorbar\": {\"outlinewidth\": 0, \"ticks\": \"\"}}, \"colorscale\": {\"diverging\": [[0, \"#8e0152\"], [0.1, \"#c51b7d\"], [0.2, \"#de77ae\"], [0.3, \"#f1b6da\"], [0.4, \"#fde0ef\"], [0.5, \"#f7f7f7\"], [0.6, \"#e6f5d0\"], [0.7, \"#b8e186\"], [0.8, \"#7fbc41\"], [0.9, \"#4d9221\"], [1, \"#276419\"]], \"sequential\": [[0.0, \"#0d0887\"], [0.1111111111111111, \"#46039f\"], [0.2222222222222222, \"#7201a8\"], [0.3333333333333333, \"#9c179e\"], [0.4444444444444444, \"#bd3786\"], [0.5555555555555556, \"#d8576b\"], [0.6666666666666666, \"#ed7953\"], [0.7777777777777778, \"#fb9f3a\"], [0.8888888888888888, \"#fdca26\"], [1.0, \"#f0f921\"]], \"sequentialminus\": [[0.0, \"#0d0887\"], [0.1111111111111111, \"#46039f\"], [0.2222222222222222, \"#7201a8\"], [0.3333333333333333, \"#9c179e\"], [0.4444444444444444, \"#bd3786\"], [0.5555555555555556, \"#d8576b\"], [0.6666666666666666, \"#ed7953\"], [0.7777777777777778, \"#fb9f3a\"], [0.8888888888888888, \"#fdca26\"], [1.0, \"#f0f921\"]]}, \"colorway\": [\"#636efa\", \"#EF553B\", \"#00cc96\", \"#ab63fa\", \"#FFA15A\", \"#19d3f3\", \"#FF6692\", \"#B6E880\", \"#FF97FF\", \"#FECB52\"], \"font\": {\"color\": \"#2a3f5f\"}, \"geo\": {\"bgcolor\": \"white\", \"lakecolor\": \"white\", \"landcolor\": \"#E5ECF6\", \"showlakes\": true, \"showland\": true, \"subunitcolor\": \"white\"}, \"hoverlabel\": {\"align\": \"left\"}, \"hovermode\": \"closest\", \"mapbox\": {\"style\": \"light\"}, \"paper_bgcolor\": \"white\", \"plot_bgcolor\": \"#E5ECF6\", \"polar\": {\"angularaxis\": {\"gridcolor\": \"white\", \"linecolor\": \"white\", \"ticks\": \"\"}, \"bgcolor\": \"#E5ECF6\", \"radialaxis\": {\"gridcolor\": \"white\", \"linecolor\": \"white\", \"ticks\": \"\"}}, \"scene\": {\"xaxis\": {\"backgroundcolor\": \"#E5ECF6\", \"gridcolor\": \"white\", \"gridwidth\": 2, \"linecolor\": \"white\", \"showbackground\": true, \"ticks\": \"\", \"zerolinecolor\": \"white\"}, \"yaxis\": {\"backgroundcolor\": \"#E5ECF6\", \"gridcolor\": \"white\", \"gridwidth\": 2, \"linecolor\": \"white\", \"showbackground\": true, \"ticks\": \"\", \"zerolinecolor\": \"white\"}, \"zaxis\": {\"backgroundcolor\": \"#E5ECF6\", \"gridcolor\": \"white\", \"gridwidth\": 2, \"linecolor\": \"white\", \"showbackground\": true, \"ticks\": \"\", \"zerolinecolor\": \"white\"}}, \"shapedefaults\": {\"line\": {\"color\": \"#2a3f5f\"}}, \"ternary\": {\"aaxis\": {\"gridcolor\": \"white\", \"linecolor\": \"white\", \"ticks\": \"\"}, \"baxis\": {\"gridcolor\": \"white\", \"linecolor\": \"white\", \"ticks\": \"\"}, \"bgcolor\": \"#E5ECF6\", \"caxis\": {\"gridcolor\": \"white\", \"linecolor\": \"white\", \"ticks\": \"\"}}, \"title\": {\"x\": 0.05}, \"xaxis\": {\"automargin\": true, \"gridcolor\": \"white\", \"linecolor\": \"white\", \"ticks\": \"\", \"title\": {\"standoff\": 15}, \"zerolinecolor\": \"white\", \"zerolinewidth\": 2}, \"yaxis\": {\"automargin\": true, \"gridcolor\": \"white\", \"linecolor\": \"white\", \"ticks\": \"\", \"title\": {\"standoff\": 15}, \"zerolinecolor\": \"white\", \"zerolinewidth\": 2}}}},\n",
              "                        {\"responsive\": true}\n",
              "                    ).then(function(){\n",
              "                            \n",
              "var gd = document.getElementById('ec7d3856-683e-4c28-9e0e-32703a5f8454');\n",
              "var x = new MutationObserver(function (mutations, observer) {{\n",
              "        var display = window.getComputedStyle(gd).display;\n",
              "        if (!display || display === 'none') {{\n",
              "            console.log([gd, 'removed!']);\n",
              "            Plotly.purge(gd);\n",
              "            observer.disconnect();\n",
              "        }}\n",
              "}});\n",
              "\n",
              "// Listen for the removal of the full notebook cells\n",
              "var notebookContainer = gd.closest('#notebook-container');\n",
              "if (notebookContainer) {{\n",
              "    x.observe(notebookContainer, {childList: true});\n",
              "}}\n",
              "\n",
              "// Listen for the clearing of the current output cell\n",
              "var outputEl = gd.closest('.output');\n",
              "if (outputEl) {{\n",
              "    x.observe(outputEl, {childList: true});\n",
              "}}\n",
              "\n",
              "                        })\n",
              "                };\n",
              "                \n",
              "            </script>\n",
              "        </div>\n",
              "</body>\n",
              "</html>"
            ]
          },
          "metadata": {
            "tags": []
          }
        }
      ]
    },
    {
      "cell_type": "code",
      "metadata": {
        "id": "8fY1-mXE3Qgk"
      },
      "source": [
        ""
      ],
      "execution_count": null,
      "outputs": []
    }
  ]
}